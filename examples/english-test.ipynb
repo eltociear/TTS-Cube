{
 "cells": [
  {
   "cell_type": "code",
   "execution_count": null,
   "id": "e2616187",
   "metadata": {},
   "outputs": [],
   "source": [
    "import sys\n",
    "sys.path.append('../')\n",
    "sys.path.append('../hifigan')\n",
    "from cube.api import TTSCube\n",
    "import os\n",
    "os.environ['PROTOCOL_BUFFERS_PYTHON_IMPLEMENTATION']='python'"
   ]
  },
  {
   "cell_type": "code",
   "execution_count": null,
   "id": "79691c29",
   "metadata": {},
   "outputs": [],
   "source": [
    "cube=TTSCube.load('en-hifi')"
   ]
  },
  {
   "cell_type": "code",
   "execution_count": null,
   "id": "f61a4416",
   "metadata": {},
   "outputs": [],
   "source": [
    "import IPython\n",
    "speaker='phil'"
   ]
  },
  {
   "cell_type": "code",
   "execution_count": null,
   "id": "1b5089bf",
   "metadata": {},
   "outputs": [],
   "source": [
    "audio=cube('Good morning and welcome to the world of speech synthesis!', speaker=speaker)\n",
    "IPython.display.Audio(data=audio, rate=24000)"
   ]
  },
  {
   "cell_type": "code",
   "execution_count": null,
   "id": "75a1ed28",
   "metadata": {},
   "outputs": [],
   "source": [
    "audio=cube(\"\"\"Alice was beginning to get very tired of sitting by her sister on the bank, and of having nothing to do: once or twice she had peeped into the book her sister was reading, but it had no pictures or conversations in it, \"and what is the use of a book,\" thought Alice \"without pictures or conversations?\" \"\"\", speaker=speaker)\n",
    "IPython.display.Audio(data=audio, rate=24000)"
   ]
  },
  {
   "cell_type": "code",
   "execution_count": null,
   "id": "b193f51a",
   "metadata": {},
   "outputs": [],
   "source": [
    "audio=cube(\"\"\"There was nothing so very remarkable in that; nor did Alice think it so very much out of \n",
    "the way to hear the Rabbit say to itself, \"Oh dear! Oh dear! I shall be late!\". When she thought it over afterwards, \n",
    "it occurred to her that she ought to have wondered at this, but at the time it all seemed quite natural;\n",
    "In another moment down went Alice after it, never once considering how in the world she was to get out again.\n",
    "The rabbit-hole went straight on like a tunnel for some way, and then dipped suddenly down, so suddenly that \n",
    "Alice had not a moment to think about stopping herself before she found herself falling down a very deep well.\"\"\", speaker=speaker)\n",
    "IPython.display.Audio(data=audio, rate=24000)"
   ]
  },
  {
   "cell_type": "code",
   "execution_count": null,
   "id": "e94b61bd",
   "metadata": {},
   "outputs": [],
   "source": [
    "text=\"\"\"Once upon a time, in a kingdom far away, there was a brave knight named Alice. Alice was known for her bravery and loyalty to the kingdom. One day, the kingdom was in danger by a wicked dragon who had been terrorizing the people. Alice fearlessly stepped forward to protect the people from the dragon.\n",
    "\n",
    "On her quest to defeat the dragon, Alice stumbled upon a crocodile named Bob. Bob, being a sneaky crocodile, had a plan to trick Alice and take credit for defeating the dragon. However, Alice being wise and cunning, saw through Bob's plan and continued on her quest alone.\n",
    "\n",
    "As Alice approached the dragon's lair, she was met with a riddle. The riddle stated, \"What is greater than God, more evil than the devil, the poor have it, the rich need it, and if you eat it, you will die?\" Alice thought long and hard until she found the answer, \"Nothing.\" The dragon was impressed by Alice's intelligence and decided to surrender.\n",
    "\n",
    "Alice then discovered that the dragon had been holding captive the lost souls of the kingdom. She rescued the lost souls and returned them back to their families. The people of the kingdom were overjoyed and declared Alice a hero.\n",
    "\n",
    "The kingdom was ruled by a kind princess named Catherine who was touched by Alice's bravery and kindness. Catherine rewarded Alice for her heroic acts and the kingdom lived in peace and harmony thereafter.\"\"\""
   ]
  },
  {
   "cell_type": "code",
   "execution_count": null,
   "id": "7de6ffd0",
   "metadata": {},
   "outputs": [],
   "source": [
    "parts=text.split('\\n\\n')\n",
    "for part in parts:\n",
    "    print(part)\n",
    "    audio=cube(part, speaker=speaker)\n",
    "    print(\"audio: \", format(len(audio)))\n",
    "    IPython.display.Audio(data=audio, rate=24000)"
   ]
  },
  {
   "cell_type": "code",
   "execution_count": null,
   "id": "541e92fc",
   "metadata": {},
   "outputs": [],
   "source": []
  }
 ],
 "metadata": {
  "kernelspec": {
   "display_name": "Python 3 (ipykernel)",
   "language": "python",
   "name": "python3"
  },
  "language_info": {
   "codemirror_mode": {
    "name": "ipython",
    "version": 3
   },
   "file_extension": ".py",
   "mimetype": "text/x-python",
   "name": "python",
   "nbconvert_exporter": "python",
   "pygments_lexer": "ipython3",
   "version": "3.10.11"
  }
 },
 "nbformat": 4,
 "nbformat_minor": 5
}
